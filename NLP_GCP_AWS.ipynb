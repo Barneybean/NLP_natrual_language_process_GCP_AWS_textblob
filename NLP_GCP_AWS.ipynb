{
 "cells": [
  {
   "cell_type": "markdown",
   "metadata": {
    "colab_type": "text",
    "id": "yR905tIkEepJ"
   },
   "source": [
    "# Natural Language Processing \n",
    "## Using GCP and AWS on Google PlayStore Review"
   ]
  },
  {
   "cell_type": "markdown",
   "metadata": {
    "colab_type": "text",
    "id": "xuZAJ7IpE4zS"
   },
   "source": [
    "### Ingest"
   ]
  },
  {
   "cell_type": "code",
   "execution_count": 1,
   "metadata": {
    "colab": {},
    "colab_type": "code",
    "id": "qLjHVI-tLqlm"
   },
   "outputs": [
    {
     "name": "stdout",
     "output_type": "stream",
     "text": [
      "Requirement already up-to-date: pip in /anaconda3/lib/python3.7/site-packages (19.0.3)\r\n"
     ]
    }
   ],
   "source": [
    "!pip install --upgrade pip\n",
    "!pip -q install boto3"
   ]
  },
  {
   "cell_type": "code",
   "execution_count": 2,
   "metadata": {
    "colab": {},
    "colab_type": "code",
    "id": "RF7ZO-KPEPRa"
   },
   "outputs": [],
   "source": [
    "import pandas as pd \n",
    "import json \n",
    "import os #to set credentials to enviroment \n",
    "\n",
    "#AWS Comprehend\n",
    "import boto3\n",
    "\n",
    "# Imports the Google Cloud client library for GCP Natrual Language API\n",
    "from google.cloud import language_v1\n",
    "from google.cloud.language_v1 import enums\n",
    "import six\n",
    "\n",
    "#Benchmark\n",
    "from sklearn.metrics import confusion_matrix\n",
    "\n"
   ]
  },
  {
   "cell_type": "code",
   "execution_count": 9,
   "metadata": {
    "colab": {
     "base_uri": "https://localhost:8080/",
     "height": 204
    },
    "colab_type": "code",
    "executionInfo": {
     "elapsed": 22153,
     "status": "ok",
     "timestamp": 1551775667642,
     "user": {
      "displayName": "William Gao",
      "photoUrl": "https://lh4.googleusercontent.com/-p7KOQSGLvRI/AAAAAAAAAAI/AAAAAAAAAAo/6vD74Xjtgm8/s64/photo.jpg",
      "userId": "17528706735174619655"
     },
     "user_tz": 480
    },
    "id": "t3Q_iqa4D17g",
    "outputId": "4dae4d3b-2d7f-4e32-b23d-3d36bc706a72"
   },
   "outputs": [
    {
     "data": {
      "text/html": [
       "<div>\n",
       "<style scoped>\n",
       "    .dataframe tbody tr th:only-of-type {\n",
       "        vertical-align: middle;\n",
       "    }\n",
       "\n",
       "    .dataframe tbody tr th {\n",
       "        vertical-align: top;\n",
       "    }\n",
       "\n",
       "    .dataframe thead th {\n",
       "        text-align: right;\n",
       "    }\n",
       "</style>\n",
       "<table border=\"1\" class=\"dataframe\">\n",
       "  <thead>\n",
       "    <tr style=\"text-align: right;\">\n",
       "      <th></th>\n",
       "      <th>Translated_Review</th>\n",
       "      <th>Sentiment</th>\n",
       "    </tr>\n",
       "  </thead>\n",
       "  <tbody>\n",
       "    <tr>\n",
       "      <th>0</th>\n",
       "      <td>I like eat delicious food. That's I'm cooking ...</td>\n",
       "      <td>Positive</td>\n",
       "    </tr>\n",
       "    <tr>\n",
       "      <th>1</th>\n",
       "      <td>This help eating healthy exercise regular basis</td>\n",
       "      <td>Positive</td>\n",
       "    </tr>\n",
       "    <tr>\n",
       "      <th>3</th>\n",
       "      <td>Works great especially going grocery store</td>\n",
       "      <td>Positive</td>\n",
       "    </tr>\n",
       "    <tr>\n",
       "      <th>4</th>\n",
       "      <td>Best idea us</td>\n",
       "      <td>Positive</td>\n",
       "    </tr>\n",
       "    <tr>\n",
       "      <th>5</th>\n",
       "      <td>Best way</td>\n",
       "      <td>Positive</td>\n",
       "    </tr>\n",
       "  </tbody>\n",
       "</table>\n",
       "</div>"
      ],
      "text/plain": [
       "                                   Translated_Review Sentiment\n",
       "0  I like eat delicious food. That's I'm cooking ...  Positive\n",
       "1    This help eating healthy exercise regular basis  Positive\n",
       "3         Works great especially going grocery store  Positive\n",
       "4                                       Best idea us  Positive\n",
       "5                                           Best way  Positive"
      ]
     },
     "execution_count": 9,
     "metadata": {},
     "output_type": "execute_result"
    }
   ],
   "source": [
    "google_review = pd.read_csv(\"https://raw.githubusercontent.com/Barneybean/comment_objetivity_analysis/master/googleplaystore_user_reviews.csv\")\n",
    "\n",
    "google_review_df = google_review[[\"Translated_Review\", \"Sentiment\"]].dropna()[0:50]\n",
    "\n",
    "google_review_df.head()\n"
   ]
  },
  {
   "cell_type": "markdown",
   "metadata": {
    "colab_type": "text",
    "id": "V0gWrDdPE7Ea"
   },
   "source": [
    "## AWS Comprehend"
   ]
  },
  {
   "cell_type": "markdown",
   "metadata": {
    "colab_type": "text",
    "id": "IetXOcN_SDp4"
   },
   "source": [
    "**install boto3**\n"
   ]
  },
  {
   "cell_type": "markdown",
   "metadata": {
    "colab_type": "text",
    "id": "T8wUYhTPTsGC"
   },
   "source": [
    "**Create API Config**"
   ]
  },
  {
   "cell_type": "code",
   "execution_count": 4,
   "metadata": {
    "colab": {},
    "colab_type": "code",
    "id": "_7dNLDISTqOZ"
   },
   "outputs": [],
   "source": [
    "!mkdir -p ~/.aws &&\\\n",
    "  cat /Users/williamgao/Desktop/HW9/credentials.txt > ~/.aws/credentials\n",
    "\n",
    "!cd ~/.aws &&\\\n",
    "  cat /Users/williamgao/Desktop/HW9/config.txt > ~/.aws/config"
   ]
  },
  {
   "cell_type": "code",
   "execution_count": 5,
   "metadata": {
    "colab": {},
    "colab_type": "code",
    "id": "dH9BL-JnE-U1"
   },
   "outputs": [],
   "source": [
    "comprehend = boto3.client(service_name='comprehend', region_name=\"us-east-1\")\n",
    "\n",
    "\n",
    "def get_sentiment(text):\n",
    "  try:\n",
    "    res = comprehend.detect_sentiment(Text=text, LanguageCode='en')[\"Sentiment\"]\n",
    "    return res\n",
    "  except: \n",
    "    return None"
   ]
  },
  {
   "cell_type": "code",
   "execution_count": 6,
   "metadata": {
    "colab": {},
    "colab_type": "code",
    "id": "J0ymbEZjEOFq"
   },
   "outputs": [],
   "source": [
    "google_review_df[\"Translated_Review\"].astype(str)\n",
    "\n",
    "google_review_df[\"AWS_sentiment\"] = google_review_df[\"Translated_Review\"].apply(lambda x: get_sentiment(x))"
   ]
  },
  {
   "cell_type": "code",
   "execution_count": 7,
   "metadata": {
    "colab": {
     "base_uri": "https://localhost:8080/",
     "height": 204
    },
    "colab_type": "code",
    "executionInfo": {
     "elapsed": 25275,
     "status": "ok",
     "timestamp": 1551775672295,
     "user": {
      "displayName": "William Gao",
      "photoUrl": "https://lh4.googleusercontent.com/-p7KOQSGLvRI/AAAAAAAAAAI/AAAAAAAAAAo/6vD74Xjtgm8/s64/photo.jpg",
      "userId": "17528706735174619655"
     },
     "user_tz": 480
    },
    "id": "cBfKXvKFHQC9",
    "outputId": "3f0fa551-748c-4098-d766-bf7b575a51bb"
   },
   "outputs": [
    {
     "data": {
      "text/html": [
       "<div>\n",
       "<style scoped>\n",
       "    .dataframe tbody tr th:only-of-type {\n",
       "        vertical-align: middle;\n",
       "    }\n",
       "\n",
       "    .dataframe tbody tr th {\n",
       "        vertical-align: top;\n",
       "    }\n",
       "\n",
       "    .dataframe thead th {\n",
       "        text-align: right;\n",
       "    }\n",
       "</style>\n",
       "<table border=\"1\" class=\"dataframe\">\n",
       "  <thead>\n",
       "    <tr style=\"text-align: right;\">\n",
       "      <th></th>\n",
       "      <th>Translated_Review</th>\n",
       "      <th>Sentiment</th>\n",
       "      <th>AWS_sentiment</th>\n",
       "    </tr>\n",
       "  </thead>\n",
       "  <tbody>\n",
       "    <tr>\n",
       "      <th>0</th>\n",
       "      <td>I like eat delicious food. That's I'm cooking ...</td>\n",
       "      <td>Positive</td>\n",
       "      <td>NEUTRAL</td>\n",
       "    </tr>\n",
       "    <tr>\n",
       "      <th>1</th>\n",
       "      <td>This help eating healthy exercise regular basis</td>\n",
       "      <td>Positive</td>\n",
       "      <td>NEUTRAL</td>\n",
       "    </tr>\n",
       "    <tr>\n",
       "      <th>3</th>\n",
       "      <td>Works great especially going grocery store</td>\n",
       "      <td>Positive</td>\n",
       "      <td>POSITIVE</td>\n",
       "    </tr>\n",
       "    <tr>\n",
       "      <th>4</th>\n",
       "      <td>Best idea us</td>\n",
       "      <td>Positive</td>\n",
       "      <td>POSITIVE</td>\n",
       "    </tr>\n",
       "    <tr>\n",
       "      <th>5</th>\n",
       "      <td>Best way</td>\n",
       "      <td>Positive</td>\n",
       "      <td>POSITIVE</td>\n",
       "    </tr>\n",
       "  </tbody>\n",
       "</table>\n",
       "</div>"
      ],
      "text/plain": [
       "                                   Translated_Review Sentiment AWS_sentiment\n",
       "0  I like eat delicious food. That's I'm cooking ...  Positive       NEUTRAL\n",
       "1    This help eating healthy exercise regular basis  Positive       NEUTRAL\n",
       "3         Works great especially going grocery store  Positive      POSITIVE\n",
       "4                                       Best idea us  Positive      POSITIVE\n",
       "5                                           Best way  Positive      POSITIVE"
      ]
     },
     "execution_count": 7,
     "metadata": {},
     "output_type": "execute_result"
    }
   ],
   "source": [
    "google_review_df.head()"
   ]
  },
  {
   "cell_type": "markdown",
   "metadata": {
    "colab_type": "text",
    "id": "cnvEUCqNXw0N"
   },
   "source": [
    "**Compare Sentiment Results**"
   ]
  },
  {
   "cell_type": "code",
   "execution_count": 24,
   "metadata": {
    "colab": {
     "base_uri": "https://localhost:8080/",
     "height": 119
    },
    "colab_type": "code",
    "executionInfo": {
     "elapsed": 24902,
     "status": "ok",
     "timestamp": 1551775672296,
     "user": {
      "displayName": "William Gao",
      "photoUrl": "https://lh4.googleusercontent.com/-p7KOQSGLvRI/AAAAAAAAAAI/AAAAAAAAAAo/6vD74Xjtgm8/s64/photo.jpg",
      "userId": "17528706735174619655"
     },
     "user_tz": 480
    },
    "id": "8nOM3pI9ZhLT",
    "outputId": "2f6fd241-c43e-4ace-dd9f-c7d987a40160"
   },
   "outputs": [
    {
     "data": {
      "text/plain": [
       "array([[ 0,  0,  0,  0,  0,  0],\n",
       "       [ 0,  0,  0,  0,  0,  0],\n",
       "       [ 2,  0,  0,  0,  0,  0],\n",
       "       [ 0,  2,  0,  0,  4,  0],\n",
       "       [ 0,  0,  0,  0,  0,  0],\n",
       "       [ 2,  6,  0,  0, 34,  0]])"
      ]
     },
     "execution_count": 24,
     "metadata": {},
     "output_type": "execute_result"
    }
   ],
   "source": [
    "from sklearn.metrics import confusion_matrix\n",
    "\n",
    "y_true = google_review_df[\"Sentiment\"]\n",
    "y_pred = google_review_df[\"AWS_sentiment\"]\n",
    "\n",
    "cm = confusion_matrix(y_true, y_pred)\n",
    "cm"
   ]
  },
  {
   "cell_type": "code",
   "execution_count": 26,
   "metadata": {
    "colab": {
     "base_uri": "https://localhost:8080/",
     "height": 445
    },
    "colab_type": "code",
    "executionInfo": {
     "elapsed": 25205,
     "status": "ok",
     "timestamp": 1551775672781,
     "user": {
      "displayName": "William Gao",
      "photoUrl": "https://lh4.googleusercontent.com/-p7KOQSGLvRI/AAAAAAAAAAI/AAAAAAAAAAo/6vD74Xjtgm8/s64/photo.jpg",
      "userId": "17528706735174619655"
     },
     "user_tz": 480
    },
    "id": "SgddmswlZhN-",
    "outputId": "e05a4be4-963b-4e37-cd9c-3a25cafe8ed0"
   },
   "outputs": [
    {
     "data": {
      "image/png": "[encoded data removed]",
      "text/plain": [
       "<Figure size 720x504 with 2 Axes>"
      ]
     },
     "metadata": {
      "needs_background": "light"
     },
     "output_type": "display_data"
    }
   ],
   "source": [
    "import seaborn as sn\n",
    "import pandas as pd\n",
    "import matplotlib.pyplot as plt\n",
    "\n",
    "df_cm = pd.DataFrame(cm, index = [i for i in \"ABCDEF\"],\n",
    "                  columns = [i for i in \"ABCDEF\"])\n",
    "plt.figure(figsize = (10,7))\n",
    "sn.heatmap(df_cm, annot=True)\n",
    "plt.show()"
   ]
  },
  {
   "cell_type": "code",
   "execution_count": 0,
   "metadata": {
    "colab": {},
    "colab_type": "code",
    "id": "1CJNqAHXZhQS"
   },
   "outputs": [],
   "source": []
  },
  {
   "cell_type": "markdown",
   "metadata": {
    "colab_type": "text",
    "id": "nPaXNRnSZhA9"
   },
   "source": [
    "## GCP Comprehend"
   ]
  },
  {
   "cell_type": "code",
   "execution_count": 27,
   "metadata": {
    "colab": {},
    "colab_type": "code",
    "id": "SCCcUsRVw5fC"
   },
   "outputs": [],
   "source": [
    "!pip install --upgrade -q google-cloud-language"
   ]
  },
  {
   "cell_type": "code",
   "execution_count": 30,
   "metadata": {
    "colab": {},
    "colab_type": "code",
    "id": "rlYMFKeD8iAw"
   },
   "outputs": [],
   "source": [
    "os.environ[\"GOOGLE_APPLICATION_CREDENTIALS\"]=\"/Users/williamgao/Desktop/HW9/flowerautoml-df46bea0c0ef.json\"\n"
   ]
  },
  {
   "cell_type": "code",
   "execution_count": 31,
   "metadata": {
    "colab": {},
    "colab_type": "code",
    "id": "oml_T2gubHtR"
   },
   "outputs": [],
   "source": [
    "# import os\n",
    "\n",
    "def gcp_analyze_sentiment(content):\n",
    "\n",
    "    client = language_v1.LanguageServiceClient()\n",
    "\n",
    "    # content = 'Your text to analyze, e.g. Hello, world!'\n",
    "\n",
    "    if isinstance(content, six.binary_type):\n",
    "        content = content.decode('utf-8')\n",
    "\n",
    "    type_ = enums.Document.Type.PLAIN_TEXT\n",
    "    document = {'type': type_, 'content': content}\n",
    "\n",
    "    response = client.analyze_sentiment(document)\n",
    "    sentiment = response.document_sentiment.score\n",
    "#     return sentiment\n",
    "    return(sentiment)"
   ]
  },
  {
   "cell_type": "code",
   "execution_count": 32,
   "metadata": {
    "colab": {},
    "colab_type": "code",
    "id": "YmMmYVYl96xr"
   },
   "outputs": [],
   "source": [
    "google_review_df[\"GCP_sentiment_score\"] = google_review_df[\"Translated_Review\"].apply(lambda x: gcp_analyze_sentiment(x))"
   ]
  },
  {
   "cell_type": "code",
   "execution_count": 0,
   "metadata": {
    "colab": {
     "base_uri": "https://localhost:8080/",
     "height": 204
    },
    "colab_type": "code",
    "executionInfo": {
     "elapsed": 38410,
     "status": "ok",
     "timestamp": 1551775691152,
     "user": {
      "displayName": "William Gao",
      "photoUrl": "https://lh4.googleusercontent.com/-p7KOQSGLvRI/AAAAAAAAAAI/AAAAAAAAAAo/6vD74Xjtgm8/s64/photo.jpg",
      "userId": "17528706735174619655"
     },
     "user_tz": 480
    },
    "id": "1jS3nSAy8UCO",
    "outputId": "8b8820a7-9d51-4517-af36-a41aa8441f72"
   },
   "outputs": [
    {
     "data": {
      "text/html": [
       "<div>\n",
       "<style scoped>\n",
       "    .dataframe tbody tr th:only-of-type {\n",
       "        vertical-align: middle;\n",
       "    }\n",
       "\n",
       "    .dataframe tbody tr th {\n",
       "        vertical-align: top;\n",
       "    }\n",
       "\n",
       "    .dataframe thead th {\n",
       "        text-align: right;\n",
       "    }\n",
       "</style>\n",
       "<table border=\"1\" class=\"dataframe\">\n",
       "  <thead>\n",
       "    <tr style=\"text-align: right;\">\n",
       "      <th></th>\n",
       "      <th>Translated_Review</th>\n",
       "      <th>Sentiment</th>\n",
       "      <th>AWS_sentiment</th>\n",
       "      <th>GCP_sentiment_score</th>\n",
       "    </tr>\n",
       "  </thead>\n",
       "  <tbody>\n",
       "    <tr>\n",
       "      <th>0</th>\n",
       "      <td>I like eat delicious food. That's I'm cooking ...</td>\n",
       "      <td>Positive</td>\n",
       "      <td>NEUTRAL</td>\n",
       "      <td>0.9</td>\n",
       "    </tr>\n",
       "    <tr>\n",
       "      <th>1</th>\n",
       "      <td>This help eating healthy exercise regular basis</td>\n",
       "      <td>Positive</td>\n",
       "      <td>NEUTRAL</td>\n",
       "      <td>0.4</td>\n",
       "    </tr>\n",
       "    <tr>\n",
       "      <th>3</th>\n",
       "      <td>Works great especially going grocery store</td>\n",
       "      <td>Positive</td>\n",
       "      <td>POSITIVE</td>\n",
       "      <td>0.9</td>\n",
       "    </tr>\n",
       "    <tr>\n",
       "      <th>4</th>\n",
       "      <td>Best idea us</td>\n",
       "      <td>Positive</td>\n",
       "      <td>POSITIVE</td>\n",
       "      <td>0.8</td>\n",
       "    </tr>\n",
       "    <tr>\n",
       "      <th>5</th>\n",
       "      <td>Best way</td>\n",
       "      <td>Positive</td>\n",
       "      <td>POSITIVE</td>\n",
       "      <td>0.9</td>\n",
       "    </tr>\n",
       "  </tbody>\n",
       "</table>\n",
       "</div>"
      ],
      "text/plain": [
       "                                   Translated_Review Sentiment AWS_sentiment  \\\n",
       "0  I like eat delicious food. That's I'm cooking ...  Positive       NEUTRAL   \n",
       "1    This help eating healthy exercise regular basis  Positive       NEUTRAL   \n",
       "3         Works great especially going grocery store  Positive      POSITIVE   \n",
       "4                                       Best idea us  Positive      POSITIVE   \n",
       "5                                           Best way  Positive      POSITIVE   \n",
       "\n",
       "   GCP_sentiment_score  \n",
       "0                  0.9  \n",
       "1                  0.4  \n",
       "3                  0.9  \n",
       "4                  0.8  \n",
       "5                  0.9  "
      ]
     },
     "execution_count": 84,
     "metadata": {
      "tags": []
     },
     "output_type": "execute_result"
    }
   ],
   "source": [
    "google_review_df.head()"
   ]
  },
  {
   "cell_type": "code",
   "execution_count": 0,
   "metadata": {
    "colab": {},
    "colab_type": "code",
    "id": "XsjUlY30eIs-"
   },
   "outputs": [],
   "source": [
    "google_review_df.loc[ google_review_df[\"GCP_sentiment_score\"] < 0.5, 'GCP_sentiment' ] = 'NEGETIVE'\n",
    "google_review_df.loc[ google_review_df[\"GCP_sentiment_score\"] >= 0.5, 'GCP_sentiment' ] = 'POSITIVE'\n",
    "\n"
   ]
  },
  {
   "cell_type": "code",
   "execution_count": 0,
   "metadata": {
    "colab": {
     "base_uri": "https://localhost:8080/",
     "height": 204
    },
    "colab_type": "code",
    "executionInfo": {
     "elapsed": 309,
     "status": "ok",
     "timestamp": 1551775710055,
     "user": {
      "displayName": "William Gao",
      "photoUrl": "https://lh4.googleusercontent.com/-p7KOQSGLvRI/AAAAAAAAAAI/AAAAAAAAAAo/6vD74Xjtgm8/s64/photo.jpg",
      "userId": "17528706735174619655"
     },
     "user_tz": 480
    },
    "id": "aJRZA_bbAf0T",
    "outputId": "4f3291fa-5fb7-4bde-aab9-411277d32d42"
   },
   "outputs": [
    {
     "data": {
      "text/html": [
       "<div>\n",
       "<style scoped>\n",
       "    .dataframe tbody tr th:only-of-type {\n",
       "        vertical-align: middle;\n",
       "    }\n",
       "\n",
       "    .dataframe tbody tr th {\n",
       "        vertical-align: top;\n",
       "    }\n",
       "\n",
       "    .dataframe thead th {\n",
       "        text-align: right;\n",
       "    }\n",
       "</style>\n",
       "<table border=\"1\" class=\"dataframe\">\n",
       "  <thead>\n",
       "    <tr style=\"text-align: right;\">\n",
       "      <th></th>\n",
       "      <th>Translated_Review</th>\n",
       "      <th>Sentiment</th>\n",
       "      <th>AWS_sentiment</th>\n",
       "      <th>GCP_sentiment_score</th>\n",
       "      <th>GCP_sentiment</th>\n",
       "      <th>gcp_euqal_aws</th>\n",
       "    </tr>\n",
       "  </thead>\n",
       "  <tbody>\n",
       "    <tr>\n",
       "      <th>0</th>\n",
       "      <td>I like eat delicious food. That's I'm cooking ...</td>\n",
       "      <td>Positive</td>\n",
       "      <td>NEUTRAL</td>\n",
       "      <td>0.9</td>\n",
       "      <td>POSITIVE</td>\n",
       "      <td>NaN</td>\n",
       "    </tr>\n",
       "    <tr>\n",
       "      <th>1</th>\n",
       "      <td>This help eating healthy exercise regular basis</td>\n",
       "      <td>Positive</td>\n",
       "      <td>NEUTRAL</td>\n",
       "      <td>0.4</td>\n",
       "      <td>NEGETIVE</td>\n",
       "      <td>NaN</td>\n",
       "    </tr>\n",
       "    <tr>\n",
       "      <th>3</th>\n",
       "      <td>Works great especially going grocery store</td>\n",
       "      <td>Positive</td>\n",
       "      <td>POSITIVE</td>\n",
       "      <td>0.9</td>\n",
       "      <td>POSITIVE</td>\n",
       "      <td>1.0</td>\n",
       "    </tr>\n",
       "    <tr>\n",
       "      <th>4</th>\n",
       "      <td>Best idea us</td>\n",
       "      <td>Positive</td>\n",
       "      <td>POSITIVE</td>\n",
       "      <td>0.8</td>\n",
       "      <td>POSITIVE</td>\n",
       "      <td>1.0</td>\n",
       "    </tr>\n",
       "    <tr>\n",
       "      <th>5</th>\n",
       "      <td>Best way</td>\n",
       "      <td>Positive</td>\n",
       "      <td>POSITIVE</td>\n",
       "      <td>0.9</td>\n",
       "      <td>POSITIVE</td>\n",
       "      <td>1.0</td>\n",
       "    </tr>\n",
       "  </tbody>\n",
       "</table>\n",
       "</div>"
      ],
      "text/plain": [
       "                                   Translated_Review Sentiment AWS_sentiment  \\\n",
       "0  I like eat delicious food. That's I'm cooking ...  Positive       NEUTRAL   \n",
       "1    This help eating healthy exercise regular basis  Positive       NEUTRAL   \n",
       "3         Works great especially going grocery store  Positive      POSITIVE   \n",
       "4                                       Best idea us  Positive      POSITIVE   \n",
       "5                                           Best way  Positive      POSITIVE   \n",
       "\n",
       "   GCP_sentiment_score GCP_sentiment  gcp_euqal_aws  \n",
       "0                  0.9      POSITIVE            NaN  \n",
       "1                  0.4      NEGETIVE            NaN  \n",
       "3                  0.9      POSITIVE            1.0  \n",
       "4                  0.8      POSITIVE            1.0  \n",
       "5                  0.9      POSITIVE            1.0  "
      ]
     },
     "execution_count": 87,
     "metadata": {
      "tags": []
     },
     "output_type": "execute_result"
    }
   ],
   "source": [
    "google_review_df.head()"
   ]
  },
  {
   "cell_type": "code",
   "execution_count": 0,
   "metadata": {
    "colab": {
     "base_uri": "https://localhost:8080/",
     "height": 34
    },
    "colab_type": "code",
    "executionInfo": {
     "elapsed": 341,
     "status": "ok",
     "timestamp": 1551776218816,
     "user": {
      "displayName": "William Gao",
      "photoUrl": "https://lh4.googleusercontent.com/-p7KOQSGLvRI/AAAAAAAAAAI/AAAAAAAAAAo/6vD74Xjtgm8/s64/photo.jpg",
      "userId": "17528706735174619655"
     },
     "user_tz": 480
    },
    "id": "tGW_tgxrBamA",
    "outputId": "51880192-176c-4871-aa37-a4fd6198a1c5"
   },
   "outputs": [
    {
     "data": {
      "text/plain": [
       "0.66"
      ]
     },
     "execution_count": 103,
     "metadata": {
      "tags": []
     },
     "output_type": "execute_result"
    }
   ],
   "source": [
    "google_review_df.loc[google_review_df[\"GCP_sentiment\"] == google_review_df[\"AWS_sentiment\"], \"gcp_euqal_aws\"] = 1\n",
    "euqual_gcp_aws = google_review_df[\"gcp_euqal_aws\"].sum()\n",
    "total = len(google_review_df)\n",
    "identity_ratio_gcp_aws = euqual_gcp_aws/total\n",
    "\n",
    "identity_ratio_gcp_aws"
   ]
  },
  {
   "cell_type": "code",
   "execution_count": 0,
   "metadata": {
    "colab": {
     "base_uri": "https://localhost:8080/",
     "height": 34
    },
    "colab_type": "code",
    "executionInfo": {
     "elapsed": 297,
     "status": "ok",
     "timestamp": 1551776222317,
     "user": {
      "displayName": "William Gao",
      "photoUrl": "https://lh4.googleusercontent.com/-p7KOQSGLvRI/AAAAAAAAAAI/AAAAAAAAAAo/6vD74Xjtgm8/s64/photo.jpg",
      "userId": "17528706735174619655"
     },
     "user_tz": 480
    },
    "id": "e2bIILH0C0O4",
    "outputId": "c82bdf6a-3396-42af-a50b-1406d9bbedcc"
   },
   "outputs": [
    {
     "data": {
      "text/plain": [
       "0.66"
      ]
     },
     "execution_count": 104,
     "metadata": {
      "tags": []
     },
     "output_type": "execute_result"
    }
   ],
   "source": [
    "google_review_df.loc[google_review_df[\"GCP_sentiment\"] == google_review_df[\"Sentiment\"].str.upper(), \"gcp_euqal_origin\"] = 1\n",
    "euqual_gcp_origin = google_review_df[\"gcp_euqal_aws\"].sum()\n",
    "total = len(google_review_df)\n",
    "identity_ratio_gcp_origin = euqual_gcp_origin/total\n",
    "\n",
    "identity_ratio_gcp_origin"
   ]
  },
  {
   "cell_type": "code",
   "execution_count": 0,
   "metadata": {
    "colab": {
     "base_uri": "https://localhost:8080/",
     "height": 34
    },
    "colab_type": "code",
    "executionInfo": {
     "elapsed": 271,
     "status": "ok",
     "timestamp": 1551776224918,
     "user": {
      "displayName": "William Gao",
      "photoUrl": "https://lh4.googleusercontent.com/-p7KOQSGLvRI/AAAAAAAAAAI/AAAAAAAAAAo/6vD74Xjtgm8/s64/photo.jpg",
      "userId": "17528706735174619655"
     },
     "user_tz": 480
    },
    "id": "7DQoLnxsC-mg",
    "outputId": "18962436-a0b7-464f-c5d9-465e340a44ef"
   },
   "outputs": [
    {
     "data": {
      "text/plain": [
       "0.66"
      ]
     },
     "execution_count": 105,
     "metadata": {
      "tags": []
     },
     "output_type": "execute_result"
    }
   ],
   "source": [
    "google_review_df.loc[google_review_df[\"AWS_sentiment\"] == google_review_df[\"Sentiment\"].str.upper(), \"gcp_euqal_origin\"] = 1\n",
    "equal_aws_origin = google_review_df[\"gcp_euqal_aws\"].sum()\n",
    "total = len(google_review_df)\n",
    "identity_ratio_aws_origin = equal_aws_origin/total\n",
    "\n",
    "identity_ratio_aws_origin"
   ]
  },
  {
   "cell_type": "markdown",
   "metadata": {
    "colab_type": "text",
    "id": "w4q2nohXE3xF"
   },
   "source": [
    "**The AWS and GCP has some accuracy issue in NLP given the second row in google_review_df**"
   ]
  }
 ],
 "metadata": {
  "colab": {
   "collapsed_sections": [],
   "name": "HW_9_GCP_and_AWS.ipynb",
   "provenance": [],
   "toc_visible": true,
   "version": "0.3.2"
  },
  "kernelspec": {
   "display_name": "Python 3",
   "language": "python",
   "name": "python3"
  },
  "language_info": {
   "codemirror_mode": {
    "name": "ipython",
    "version": 3
   },
   "file_extension": ".py",
   "mimetype": "text/x-python",
   "name": "python",
   "nbconvert_exporter": "python",
   "pygments_lexer": "ipython3",
   "version": "3.7.1"
  }
 },
 "nbformat": 4,
 "nbformat_minor": 1
}
